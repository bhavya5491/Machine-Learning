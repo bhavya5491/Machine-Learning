{
  "cells": [
    {
      "metadata": {
        "_cell_guid": "bd58f7af-c2c5-48ab-be70-7900dd6e3c53",
        "_uuid": "f3d98f2239ec94afa947f9daa74fa51e3f259f14",
        "trusted": false,
        "collapsed": true
      },
      "cell_type": "code",
      "source": "# This Python 3 environment comes with many helpful analytics libraries installed\n# It is defined by the kaggle/python docker image: https://github.com/kaggle/docker-python\n# For example, here's several helpful packages to load in \n\nimport numpy as np # linear algebra\nimport pandas as pd # data processing, CSV file I/O (e.g. pd.read_csv)\nimport math\nfrom scipy import stats\n# Input data files are available in the \"../input/\" directory.\n# For example, running this (by clicking run or pressing Shift+Enter) will list the files in the input directory\n\n\ntrain = pd.read_csv('../input/train.csv')\ntrain.info()\n\n# Any results you write to the current directory are saved as output.",
      "execution_count": null,
      "outputs": []
    },
    {
      "metadata": {
        "_cell_guid": "b5023ce5-54d1-44e3-91dc-c172a73bbb5c",
        "_uuid": "7293fabdbc2b477d795690c4ba85dd8ff59dbc54",
        "trusted": false,
        "collapsed": true
      },
      "cell_type": "code",
      "source": "import seaborn as sns\nimport matplotlib.pyplot as plt\n\nsns.heatmap(data=train.corr())\nplt.gcf().clear\nplt.show()\n",
      "execution_count": null,
      "outputs": []
    },
    {
      "metadata": {
        "_cell_guid": "df65b107-a6bd-4d21-9188-582af9b15d3d",
        "_uuid": "6035d22b8b8c5e19ca901d7a7c5853f4e3b1ed7a",
        "trusted": false,
        "collapsed": true
      },
      "cell_type": "code",
      "source": "train.skew()",
      "execution_count": null,
      "outputs": []
    },
    {
      "metadata": {
        "_cell_guid": "0968bc78-5685-47d0-b898-01c26e22ba67",
        "_uuid": "a4e8d0fa40d446c38aac92b0c0ad000efd9da770",
        "trusted": false,
        "collapsed": true
      },
      "cell_type": "code",
      "source": "train_d = train.copy()\ntrain_d = pd.get_dummies(train_d)\ntrain_d.info()",
      "execution_count": null,
      "outputs": []
    },
    {
      "metadata": {
        "_cell_guid": "6582eeed-8c39-4d1a-ab4c-387231e0a7cf",
        "_uuid": "3bd3f9035fdb0aebd0d812e606ee3133d10201fe",
        "trusted": false,
        "collapsed": true
      },
      "cell_type": "code",
      "source": "keep_cols = train_d.select_dtypes(include=['number']).columns\n\ntrain_d = train_d[keep_cols]\ntrain_d.describe()",
      "execution_count": null,
      "outputs": []
    },
    {
      "metadata": {
        "_cell_guid": "20e2366b-a77d-406c-bc6d-0c0333858198",
        "_uuid": "85033ca387dc6f30998a85a80ff6fccc8ab1ea58",
        "trusted": false,
        "collapsed": true
      },
      "cell_type": "code",
      "source": "train_d = train_d.fillna(train_d.mean())\ntrain_d.head()",
      "execution_count": null,
      "outputs": []
    },
    {
      "metadata": {
        "_cell_guid": "a1b7e1db-3d3d-4353-a2f4-eb38f2c2958b",
        "_uuid": "82e5c41f562edb51376cf38f63abd86d15061c9e",
        "trusted": false,
        "collapsed": true
      },
      "cell_type": "code",
      "source": "test = pd.read_csv(\"../input/test.csv\")\ntest.head()",
      "execution_count": null,
      "outputs": []
    },
    {
      "metadata": {
        "_cell_guid": "e2f5f0cc-a4fa-4362-b46f-08981ed19bbe",
        "_uuid": "90bc38631542f478354d0ab9691412b2d29888e4",
        "trusted": false,
        "collapsed": true
      },
      "cell_type": "code",
      "source": "test_d = test.copy()\ntest_d = pd.get_dummies(test_d)\ntest_d.info()",
      "execution_count": null,
      "outputs": []
    },
    {
      "metadata": {
        "collapsed": true,
        "_cell_guid": "14922ef1-2345-4124-8bd7-1f0d97fa65f8",
        "_uuid": "0e84f796364b40bf79eb963208c37a90f96eb7d3",
        "trusted": false
      },
      "cell_type": "code",
      "source": "test_d = test_d.fillna(test_d.mean())",
      "execution_count": null,
      "outputs": []
    },
    {
      "metadata": {
        "_cell_guid": "77304c86-f28a-499a-9d9f-53c1048b48b6",
        "_uuid": "9b842be09ec380627feee05a4ebfea65de4e6fed",
        "trusted": false,
        "collapsed": true
      },
      "cell_type": "code",
      "source": "for col in keep_cols:\n    if col not in test_d:\n        test_d[col] = 0\ntest_d.info()",
      "execution_count": null,
      "outputs": []
    },
    {
      "metadata": {
        "_cell_guid": "dcda0cb4-61dc-4951-8697-b9792d7ebe48",
        "_uuid": "c3b5ab8e524d6f62bdf80187be910bc5eeab02a6",
        "trusted": false,
        "collapsed": true
      },
      "cell_type": "code",
      "source": "test_d = test_d[keep_cols]\ntest_d.info()",
      "execution_count": null,
      "outputs": []
    },
    {
      "metadata": {
        "collapsed": true,
        "_cell_guid": "111d1322-ece1-49e8-83ad-3a346fc742ac",
        "_uuid": "58b6c53d28021b35cecb451778b11d306133d1bc",
        "trusted": false
      },
      "cell_type": "code",
      "source": "from sklearn.ensemble import RandomForestRegressor\nfrom sklearn.model_selection import cross_val_score\nfrom sklearn.model_selection import GridSearchCV",
      "execution_count": null,
      "outputs": []
    },
    {
      "metadata": {
        "collapsed": true,
        "_cell_guid": "7b1afc4d-ffd0-4796-bd1c-791668b50bdb",
        "_uuid": "d621ac1ee2e5c36235b74236a1f4a362b04ec8a5",
        "trusted": false
      },
      "cell_type": "code",
      "source": "rf_test = RandomForestRegressor(max_depth=30, n_estimators=500, max_features = 100, oob_score=True, random_state=1234)\ncv_score = cross_val_score(rf_test, train_d.drop('SalePrice', axis = 1), train_d['SalePrice'], cv = 10, n_jobs = -1)\n",
      "execution_count": null,
      "outputs": []
    },
    {
      "metadata": {
        "_cell_guid": "41634ba9-b31c-4b4f-b189-967eb870054e",
        "_uuid": "8bef7ca74111b1ce1e8e5b266a13bda26751c213",
        "trusted": false,
        "collapsed": true
      },
      "cell_type": "code",
      "source": "print('CV Score is: '+ str(np.mean(cv_score)))",
      "execution_count": null,
      "outputs": []
    },
    {
      "metadata": {
        "collapsed": true,
        "_cell_guid": "4ee78e36-5120-42ec-ac05-3f4c6ef60cfb",
        "_uuid": "b72ec3d09d30cf6b26385fae33ff8af0734a0392",
        "trusted": false
      },
      "cell_type": "code",
      "source": "train_0 = train.copy()\nnull_index = train_0.LotFrontage.isnull()",
      "execution_count": null,
      "outputs": []
    },
    {
      "metadata": {
        "collapsed": true,
        "_cell_guid": "f3ea1d8c-ee8e-498f-bffb-3d80c3d7dbaf",
        "_uuid": "6990945de14f3f47ab8f868b5702f68e133e613c",
        "trusted": false
      },
      "cell_type": "code",
      "source": "train_0.loc[null_index,'LotFrontage'] = 0",
      "execution_count": null,
      "outputs": []
    },
    {
      "metadata": {
        "collapsed": true,
        "_cell_guid": "853d56ed-f0e4-48ae-aa81-c44ac2a0b36c",
        "_uuid": "5f4eadaf593510814fc3e40acd17eef0fa6cbff9",
        "trusted": false
      },
      "cell_type": "code",
      "source": "train_0 = pd.get_dummies(train_0)\nkeep_cols = train_0.select_dtypes(include=['number']).columns\ntrain_0 = train_0[keep_cols]\ntrain_0 = train_0.fillna(train_0.mean())",
      "execution_count": null,
      "outputs": []
    },
    {
      "metadata": {
        "collapsed": true,
        "_cell_guid": "8c5cb321-0737-440f-bd7d-a046fcee490d",
        "_uuid": "3198478a864fc2bed9fadd9b2a87874bc808fa1b",
        "trusted": false
      },
      "cell_type": "code",
      "source": "rf_test = RandomForestRegressor(max_depth=30, n_estimators=500, max_features = 100, oob_score=True, random_state=1234)\ncv_score = cross_val_score(rf_test, train_0.drop('SalePrice', axis = 1), train_0['SalePrice'], cv = 10, n_jobs = -1)\n",
      "execution_count": null,
      "outputs": []
    },
    {
      "metadata": {
        "_cell_guid": "6eb6f743-8501-400a-92cf-fbc645a49a30",
        "_uuid": "1e1b321fe2e197e533c64917d7dcb5dff5e4410e",
        "trusted": false,
        "collapsed": true
      },
      "cell_type": "code",
      "source": "print('CV Score is: '+ str(np.mean(cv_score)))",
      "execution_count": null,
      "outputs": []
    },
    {
      "metadata": {
        "_cell_guid": "3cf48ad7-6c0c-4c4a-85e7-0531ba003b86",
        "_uuid": "37f850a3ab031291e5b534bc19de3d3d2d2e072b",
        "trusted": false,
        "collapsed": true
      },
      "cell_type": "code",
      "source": "sns.barplot(data=train,x='Neighborhood',y='LotFrontage', estimator=np.median)\nplt.xticks(rotation=90)\nplt.show()\n",
      "execution_count": null,
      "outputs": []
    },
    {
      "metadata": {
        "_cell_guid": "b416dc8d-a3cd-4d0f-b0ea-c660249e1cb3",
        "_uuid": "008b6536c0ff8668ade5ba976aa1f7e715043c7b",
        "trusted": false,
        "collapsed": true
      },
      "cell_type": "code",
      "source": "gb_neigh = train['LotFrontage'].groupby(train['Neighborhood'])\nfor i in gb_neigh:\n    print (i)",
      "execution_count": null,
      "outputs": []
    },
    {
      "metadata": {
        "collapsed": true,
        "_cell_guid": "e0c68ffc-352d-4a50-9575-18b9c66bb783",
        "_uuid": "ccea494e30836e9460b1e41d8e1f270cb767e23d",
        "trusted": false
      },
      "cell_type": "code",
      "source": "train_LFm = train.copy()",
      "execution_count": null,
      "outputs": []
    },
    {
      "metadata": {
        "collapsed": true,
        "_cell_guid": "43532262-c1e7-4a05-9409-6e60c3860e58",
        "_uuid": "b897a92623b5ce5860e843298c59a715dd64883d",
        "trusted": false
      },
      "cell_type": "code",
      "source": "for key,group in gb_neigh:\n    # find where we are both simultaneously missing values and where the key exists\n    lot_f_nulls_nei = train['LotFrontage'].isnull() & (train['Neighborhood'] == key)\n    # fill in those blanks with the median of the key's group object\n    train_LFm.loc[lot_f_nulls_nei,'LotFrontage'] = group.median()",
      "execution_count": null,
      "outputs": []
    },
    {
      "metadata": {
        "collapsed": true,
        "_cell_guid": "52d90dc1-131a-4cc6-873b-380a960eebf5",
        "_uuid": "239887f6a0c54fe74a15260b483f777b61ef9e95",
        "trusted": false
      },
      "cell_type": "code",
      "source": "train_LFm = pd.get_dummies(train_LFm)\nkeep_cols = train_LFm.select_dtypes(include=['number']).columns\ntrain_LFm = train_LFm[keep_cols]",
      "execution_count": null,
      "outputs": []
    },
    {
      "metadata": {
        "collapsed": true,
        "_cell_guid": "32af5723-8a22-4294-b2b2-216979948977",
        "_uuid": "2116c8c5f54e23a4e78da3ae4f66a9a6b5ea7420",
        "trusted": false
      },
      "cell_type": "code",
      "source": "train_LFm = train_LFm.fillna(train_LFm.mean())",
      "execution_count": null,
      "outputs": []
    },
    {
      "metadata": {
        "collapsed": true,
        "_cell_guid": "f67b5432-7d62-47d4-b408-0d5eb498fe82",
        "_uuid": "8e30ba3a6734b3058b9478f396ed9f31b8b30b01",
        "trusted": false
      },
      "cell_type": "code",
      "source": "#rf_test = RandomForestRegressor(max_depth=30, n_estimators=500, max_features = 100, oob_score=True, n_jobs=-1, random_state= 1234)\n#cv_score = cross_val_score(rf_test, train_LFm.drop('SalePrice', axis = 1), train_LFm['SalePrice'], cv = 10, n_jobs=-1)",
      "execution_count": null,
      "outputs": []
    },
    {
      "metadata": {
        "collapsed": true,
        "_cell_guid": "7179ca5f-0f80-4ab6-b712-3d264a8a072c",
        "_uuid": "0435675bc9dd7fceaf71578c3c5c4e70a86dd372",
        "trusted": false
      },
      "cell_type": "code",
      "source": "#print('CV Score is: '+ str(np.mean(cv_score)))",
      "execution_count": null,
      "outputs": []
    },
    {
      "metadata": {
        "collapsed": true,
        "_cell_guid": "06d77bd4-a3d4-4e97-a0dd-7c0aabf4e7bc",
        "_uuid": "e5c2183c3a580ca837f79719d44d371c450034fe",
        "trusted": false
      },
      "cell_type": "code",
      "source": "from xgboost.sklearn import XGBRegressor",
      "execution_count": null,
      "outputs": []
    },
    {
      "metadata": {
        "collapsed": true,
        "_cell_guid": "3b05f50e-f700-443f-aaa3-80dfdbe092b5",
        "_uuid": "27dba88670029bd45824b8ae0e4fe0ba95bfdaf0",
        "trusted": false
      },
      "cell_type": "code",
      "source": "xgb_test = XGBRegressor(learning_rate=0.05,n_estimators=1000,max_depth=3,colsample_bytree=0.4)\ncv_score = cross_val_score(xgb_test, train_LFm.drop(['SalePrice','Id'], axis = 1), train_LFm['SalePrice'], cv = 15, n_jobs = -1)",
      "execution_count": null,
      "outputs": []
    },
    {
      "metadata": {
        "_cell_guid": "27fb3261-6179-4bef-b332-e0f43dc6c845",
        "_uuid": "8e348ccf451844e079fa40de1cbb6feacbe6d81f",
        "trusted": false,
        "collapsed": true
      },
      "cell_type": "code",
      "source": "print('CV Score is: '+ str(np.mean(cv_score)))",
      "execution_count": null,
      "outputs": []
    },
    {
      "metadata": {
        "_cell_guid": "f28e0594-d203-40ab-94a8-0f96db1aa762",
        "_uuid": "ac46075e4fbcf5216513867a49a041589b693c8c",
        "trusted": false,
        "collapsed": true
      },
      "cell_type": "code",
      "source": "xgb_test.fit(train_LFm.drop('SalePrice',axis = 1),train_LFm['SalePrice'])",
      "execution_count": null,
      "outputs": []
    },
    {
      "metadata": {
        "collapsed": true,
        "_cell_guid": "c5674982-9f9a-40dc-8d02-1c78d62afa42",
        "_uuid": "c099d96e6837d303eb0af9f2faaed83be1b2e9ee",
        "trusted": false
      },
      "cell_type": "code",
      "source": "preds = xgb_test.predict(test_d.drop('SalePrice', axis=1))\nout_preds = pd.DataFrame()\nout_preds['Id'] = test['Id']\nout_preds['SalePrice'] = preds\nout_preds.to_csv('output.csv', index=False)",
      "execution_count": null,
      "outputs": []
    },
    {
      "metadata": {
        "collapsed": true,
        "_cell_guid": "5651afbf-c77a-4697-b39d-5266cf55a7ba",
        "_uuid": "26488a06bda93eb21ddb5cf01a8d596baf293766",
        "trusted": false
      },
      "cell_type": "code",
      "source": "",
      "execution_count": null,
      "outputs": []
    }
  ],
  "metadata": {
    "language_info": {
      "name": "python",
      "version": "3.6.4",
      "mimetype": "text/x-python",
      "codemirror_mode": {
        "name": "ipython",
        "version": 3
      },
      "pygments_lexer": "ipython3",
      "nbconvert_exporter": "python",
      "file_extension": ".py"
    },
    "kernelspec": {
      "display_name": "Python 3",
      "language": "python",
      "name": "python3"
    }
  },
  "nbformat": 4,
  "nbformat_minor": 1
}
