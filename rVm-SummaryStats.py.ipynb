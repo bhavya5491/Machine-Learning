{
 "cells": [
  {
   "cell_type": "code",
   "execution_count": 9,
   "metadata": {
    "collapsed": true
   },
   "outputs": [],
   "source": [
    "import urllib2\n",
    "import sys\n",
    "import numpy as np"
   ]
  },
  {
   "cell_type": "code",
   "execution_count": 14,
   "metadata": {},
   "outputs": [
    {
     "name": "stdout",
     "output_type": "stream",
     "text": [
      "('Mean = ', 0.053892307692307684)\n",
      "('Standard Deviation = ', 0.046415983222600272)\n",
      "Boundaries for 4 Equal Percentiles\n",
      "[0.0057999999999999996, 0.024375000000000001, 0.044049999999999999]\n",
      "set(['R', 'M'])\n",
      "['R', 'M']\n",
      "[97, 111]\n"
     ]
    }
   ],
   "source": [
    "target_url = \"http://archive.ics.uci.edu/ml/machine-learning-databases/undocumented/connectionist-bench/sonar/sonar.all-data\"\n",
    "data = urllib2.urlopen(target_url)\n",
    "\n",
    "xList = []\n",
    "labels = []\n",
    "for line in data:\n",
    "    row = line.strip().split(',')\n",
    "    xList.append(row)\n",
    "    \n",
    "nrow = len(xList)\n",
    "ncol = len(xList[2])\n",
    "\n",
    "type = [0] * 3\n",
    "\n",
    "colCounts = []\n",
    "\n",
    "# Generate summary statistics for Column 3\n",
    "col = 3\n",
    "colData = []\n",
    "for row in xList:\n",
    "    colData.append(float(row[col]))\n",
    "    \n",
    "colArray = np.array(colData)\n",
    "\n",
    "colMean = np.mean(colArray)\n",
    "colsd = np.std(colArray)\n",
    "\n",
    "print (\"Mean = \", colMean)\n",
    "print (\"Standard Deviation = \", colsd)\n",
    "\n",
    "# Calculate quantile Boundaries \n",
    "ntiles = 4\n",
    "\n",
    "percentBdry = []\n",
    "\n",
    "for i in range(ntiles -1):\n",
    "    percentBdry.append(np.percentile(colArray, i*(100)/ntiles))\n",
    "\n",
    "    \n",
    "print (\"Boundaries for 4 Equal Percentiles\")\n",
    "print (percentBdry)\n",
    "\n",
    "\n",
    "# Last column contain Categorical Values\n",
    "\n",
    "col = 60\n",
    "colData = []\n",
    "\n",
    "for row in xList:\n",
    "    colData.append(row[col])\n",
    "    \n",
    "unique = set(colData)\n",
    "\n",
    "print (unique)\n",
    "\n",
    "# Count up the number of elements having each value\n",
    "\n",
    "catDict  = dict(zip(list(unique), range(len(unique))))\n",
    "\n",
    "catCount = [0] *2\n",
    "\n",
    "for elt in colData:\n",
    "    catCount[catDict[elt]] += 1\n",
    "    \n",
    "print (list(unique))\n",
    "print (catCount)"
   ]
  },
  {
   "cell_type": "code",
   "execution_count": null,
   "metadata": {
    "collapsed": true
   },
   "outputs": [],
   "source": []
  }
 ],
 "metadata": {
  "kernelspec": {
   "display_name": "Python 2",
   "language": "python",
   "name": "python2"
  },
  "language_info": {
   "codemirror_mode": {
    "name": "ipython",
    "version": 2
   },
   "file_extension": ".py",
   "mimetype": "text/x-python",
   "name": "python",
   "nbconvert_exporter": "python",
   "pygments_lexer": "ipython2",
   "version": "2.7.14"
  }
 },
 "nbformat": 4,
 "nbformat_minor": 2
}
