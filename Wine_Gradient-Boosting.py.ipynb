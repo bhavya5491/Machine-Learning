{
 "cells": [
  {
   "cell_type": "code",
   "execution_count": 1,
   "metadata": {
    "collapsed": true
   },
   "outputs": [],
   "source": [
    "import urllib2\n",
    "import numpy as np\n",
    "from sklearn import tree\n",
    "from sklearn.tree import DecisionTreeRegressor\n",
    "from sklearn.externals.six import StringIO\n",
    "from math import sqrt\n",
    "import matplotlib.pyplot as plt\n",
    "import random"
   ]
  },
  {
   "cell_type": "code",
   "execution_count": 4,
   "metadata": {},
   "outputs": [
    {
     "data": {
      "image/png": "[encoded data removed]",
      "text/plain": [
       "<matplotlib.figure.Figure at 0x10fc38b50>"
      ]
     },
     "metadata": {},
     "output_type": "display_data"
    },
    {
     "name": "stdout",
     "output_type": "stream",
     "text": [
      "('Minimum MSE = ', 0.36343125337473697)\n"
     ]
    }
   ],
   "source": [
    "target_url = \"http://archive.ics.uci.edu/ml/machine-learning-databases/wine-quality/winequality-red.csv\"\n",
    "data = urllib2.urlopen(target_url)\n",
    "\n",
    "xList = []\n",
    "labels = []\n",
    "names = []\n",
    "firstline = True\n",
    "for line in data:\n",
    "    if firstline:\n",
    "        names = line.strip().split(\";\")\n",
    "        firstline = False\n",
    "    else:\n",
    "        row = line.strip().split(\";\")\n",
    "        labels.append(float(row[-1]))\n",
    "        row.pop()\n",
    "        floatRow = [float(num) for num in row]\n",
    "        xList.append(floatRow)\n",
    "        \n",
    "# Normalize columns in x and labels\n",
    "\n",
    "nrows = len(xList)\n",
    "ncols = len(xList[0])\n",
    "\n",
    "# Take fixed test set 30% of sample\n",
    "\n",
    "random.seed(1)\n",
    "nSample = int(nrows * 0.30)\n",
    "idxTest = random.sample(range(nrows), nSample)\n",
    "idxTest.sort()\n",
    "\n",
    "\n",
    "idxTrain = [i for i in range(nrows) if not(i in idxTest)]\n",
    "\n",
    "# Define test and training sets\n",
    "\n",
    "xTrain = [xList[r] for r in idxTrain]\n",
    "yTrain = [labels[r] for r in idxTrain]\n",
    "xTest = [xList[r] for r in idxTest]\n",
    "yTest = [labels[r] for r in idxTest]\n",
    "\n",
    "\n",
    "# Train a series of models on random subsets of the training data\n",
    "# Collect the models in a list and check error of composite as list grows\n",
    "\n",
    "# Maximum of models to generate 40\n",
    "maxTree = 90\n",
    "\n",
    "# Tree Depth\n",
    "treeDepth = 5\n",
    "\n",
    "modelList = []\n",
    "predList = []\n",
    "\n",
    "eps = 0.1\n",
    "\n",
    "# initialize residuals to be the labels y\n",
    "residuals = list(yTrain)\n",
    "\n",
    "for i in range(maxTree):\n",
    "    modelList.append(DecisionTreeRegressor(max_depth=treeDepth))\n",
    "    modelList[-1].fit(xTrain,residuals)\n",
    "    \n",
    "    latestInSamplePred = modelList[-1].predict(xTrain)\n",
    "    \n",
    "    # Use new predictions to update residuals\n",
    "    residuals = [residuals[i] - eps * latestInSamplePred[i] for i in range(len(residuals))]\n",
    "    \n",
    "    latestOutSamplePred = modelList[-1].predict(xTest)\n",
    "    predList.append(list(latestOutSamplePred))\n",
    "    \n",
    "# Build cumulative prediction from first 'n' models\n",
    "mse = []\n",
    "allPred = []\n",
    "for i in range(len(modelList)):\n",
    "    prediction = []\n",
    "    for j in range(len(xTest)):\n",
    "        prediction.append(sum([predList[k][j] for k in range(i +1)]) * eps)\n",
    "        \n",
    "    allPred.append(prediction)\n",
    "    errors = [(yTest[k] - prediction[k]) for k in range(len(yTest))]\n",
    "    mse.append(sum([e * e for e in errors])/len(yTest))\n",
    "    \n",
    "nModels = [i +1 for i in range(len(modelList))]\n",
    "\n",
    "plt.plot(nModels,mse)\n",
    "plt.axis('tight')\n",
    "plt.xlabel('Number of tree models in ensemble')\n",
    "plt.ylabel(\"MSE\")\n",
    "#plt.ylim((0.0, max(mse)))\n",
    "plt.show()\n",
    "\n",
    "print (\"Minimum MSE = \", min(mse))"
   ]
  },
  {
   "cell_type": "code",
   "execution_count": null,
   "metadata": {
    "collapsed": true
   },
   "outputs": [],
   "source": []
  }
 ],
 "metadata": {
  "kernelspec": {
   "display_name": "Python 2",
   "language": "python",
   "name": "python2"
  },
  "language_info": {
   "codemirror_mode": {
    "name": "ipython",
    "version": 2
   },
   "file_extension": ".py",
   "mimetype": "text/x-python",
   "name": "python",
   "nbconvert_exporter": "python",
   "pygments_lexer": "ipython2",
   "version": "2.7.14"
  }
 },
 "nbformat": 4,
 "nbformat_minor": 2
}
